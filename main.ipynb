{
 "cells": [
  {
   "cell_type": "markdown",
   "metadata": {
    "pycharm": {
     "name": "#%% md\n"
    }
   },
   "source": [
    "# Lab 3\n",
    "\n",
    "### Ashwin Rajgopal"
   ]
  },
  {
   "cell_type": "markdown",
   "metadata": {
    "pycharm": {
     "name": "#%% md\n"
    }
   },
   "source": [
    "Import `libsvm` python library as required. `random` and `numpy` used for k-fold cross validation.\n",
    "Pyplot is used for graphing results."
   ]
  },
  {
   "cell_type": "code",
   "execution_count": 1,
   "metadata": {},
   "outputs": [],
   "source": [
    "from libsvm import svmutil\n",
    "import random\n",
    "import numpy as np\n",
    "import matplotlib.pyplot as plt"
   ]
  },
  {
   "cell_type": "markdown",
   "metadata": {
    "pycharm": {
     "name": "#%% md\n"
    }
   },
   "source": [
    "Generate a list of powers of 2 starting at 2^-4 to serve as values for the hyperparameters C and alpha."
   ]
  },
  {
   "cell_type": "code",
   "execution_count": 2,
   "metadata": {
    "pycharm": {
     "name": "#%%\n"
    }
   },
   "outputs": [],
   "source": [
    "start_val = 1 / (2 ** 4)\n",
    "params = [start_val]\n",
    "while params[-1] < 2 ** 8:\n",
    "    params.append(params[-1] * 2)"
   ]
  },
  {
   "cell_type": "markdown",
   "metadata": {
    "pycharm": {
     "name": "#%% md\n"
    }
   },
   "source": [
    "Read ncRNA train and test data into global variables to use as function inputs later."
   ]
  },
  {
   "cell_type": "code",
   "execution_count": 3,
   "metadata": {
    "pycharm": {
     "name": "#%%\n"
    }
   },
   "outputs": [],
   "source": [
    "trainY, trainX = svmutil.svm_read_problem('data/ncRNA_s.train.txt')\n",
    "testY, testX = svmutil.svm_read_problem('data/ncRNA_s.test.txt')"
   ]
  },
  {
   "cell_type": "markdown",
   "metadata": {
    "pycharm": {
     "name": "#%% md\n"
    }
   },
   "source": [
    "This next function trains and tests a linear SVM using C as specified from the function input. Runs in quiet mode.\n",
    "The function will return the accuracy of the trained linear SVM on the supplied test data."
   ]
  },
  {
   "cell_type": "code",
   "execution_count": 4,
   "metadata": {
    "pycharm": {
     "name": "#%%\n"
    }
   },
   "outputs": [],
   "source": [
    "def train_test_linear(train_x, train_y, test_x, test_y, c):\n",
    "    model = svmutil.svm_train(train_y, train_x, f'-c {c} -q')\n",
    "    _, acc, _ = svmutil.svm_predict(test_y, test_x, model, '-b 0 -q')\n",
    "    return acc[0]"
   ]
  },
  {
   "cell_type": "markdown",
   "metadata": {
    "pycharm": {
     "name": "#%% md\n"
    }
   },
   "source": [
    "This function runs SVM using the RBF function and accepts a parameter for C and alpha to use in the training.\n",
    "The function will return the accuracy of the trained SVM on the supplied test data."
   ]
  },
  {
   "cell_type": "code",
   "execution_count": 5,
   "metadata": {
    "pycharm": {
     "name": "#%%\n"
    }
   },
   "outputs": [],
   "source": [
    "def train_test_rbf(train_x, train_y, test_x, test_y, c, g):\n",
    "    model = svmutil.svm_train(train_y, train_x, f'-c {c} -t 2 -g {g} -q')\n",
    "    _, acc, _ = svmutil.svm_predict(test_y, test_x, model, '-b 0 -q')\n",
    "    return acc[0]"
   ]
  },
  {
   "cell_type": "markdown",
   "metadata": {
    "pycharm": {
     "name": "#%% md\n"
    }
   },
   "source": [
    "This function runs cross validation on RBF SVM. For each combination of supplied C values and alpha values,\n",
    "the function will extract a random sampling of the training data supplied to the function.\n",
    "Then, the function will train a new RBF SVM k times, k being the number of cross validations.\n",
    "For each k, the function will extract a subset from the random sample for test data, and use the rest as train data.\n",
    "When this is done k times, the average of the accuracy percentages is taken and stored in the accuracy matrix.\n",
    "After all combinations of C and alpha are run, the function takes the argmax on the 2d array which will represent\n",
    "the indexes in the list of C and alphas that correspond to the optimal C - alpha pair."
   ]
  },
  {
   "cell_type": "code",
   "execution_count": 6,
   "metadata": {
    "pycharm": {
     "name": "#%%\n"
    }
   },
   "outputs": [],
   "source": [
    "def k_fold_best_hp(x, y, cs, gs, k_fold):\n",
    "    accs = np.zeros((len(cs), len(gs)))\n",
    "    for i, c in enumerate(cs):\n",
    "        for j, g in enumerate(gs):\n",
    "            data = random.sample(list(zip(x, y)), len(x) // 2)\n",
    "            random.shuffle(data)\n",
    "            set_accuracies = []\n",
    "            for k in range(k_fold):\n",
    "                subset_size = len(data) // 5\n",
    "                start = k * subset_size\n",
    "                end = start + subset_size\n",
    "                test_x, test_y = zip(*data[start:end])\n",
    "                train_data = data[:start] + data[end:]\n",
    "                train_x, train_y = zip(*train_data)\n",
    "                acc = train_test_rbf(train_x, train_y, test_x, test_y, c, g)\n",
    "                set_accuracies.append(acc)\n",
    "            accs[i, j] = sum(set_accuracies) / k_fold\n",
    "    return np.unravel_index(accs.argmax(), accs.shape)"
   ]
  },
  {
   "cell_type": "markdown",
   "metadata": {
    "pycharm": {
     "name": "#%% md\n"
    }
   },
   "source": [
    "## Results\n",
    "\n",
    "Run the above functions to get the results of linear SVM and RBF SVM with 5-fold cross validation."
   ]
  },
  {
   "cell_type": "markdown",
   "metadata": {
    "pycharm": {
     "name": "#%% md\n"
    }
   },
   "source": [
    "### Linear SVM\n",
    "\n",
    "Run the linear SVM function on every value of C, and plot the results."
   ]
  },
  {
   "cell_type": "code",
   "execution_count": 7,
   "metadata": {
    "pycharm": {
     "name": "#%%\n"
    }
   },
   "outputs": [
    {
     "data": {
      "image/png": "[encoded data removed]",
      "text/plain": [
       "<Figure size 432x288 with 1 Axes>"
      ]
     },
     "metadata": {
      "needs_background": "light"
     },
     "output_type": "display_data"
    }
   ],
   "source": [
    "accuracies = []\n",
    "for C in params:\n",
    "    accuracies.append(train_test_linear(trainX, trainY, testX, testY, C))\n",
    "fig = plt.figure()\n",
    "ax = plt.axes()\n",
    "ax.plot(params, accuracies, '-b')\n",
    "plt.xlabel('C')\n",
    "plt.ylabel('Accuracy (%)')\n",
    "ax.set_xscale('log', base=2)"
   ]
  },
  {
   "cell_type": "markdown",
   "metadata": {
    "pycharm": {
     "name": "#%% md\n"
    }
   },
   "source": [
    "The accuracy of linear SVM for this dataset significantly improves when C > 1.\n",
    "This shows that the shows there is significant noise in the data, and that C needs to be increased\n",
    "to allow extra slack to the linear SVM."
   ]
  },
  {
   "cell_type": "markdown",
   "metadata": {
    "pycharm": {
     "name": "#%% md\n"
    }
   },
   "source": [
    "Now run the RBF SVM, and get the classification accuracy for the optimal pair of C and alpha."
   ]
  },
  {
   "cell_type": "code",
   "execution_count": 8,
   "metadata": {
    "pycharm": {
     "name": "#%%\n"
    }
   },
   "outputs": [
    {
     "name": "stdout",
     "output_type": "stream",
     "text": [
      "The best performing pair of C and alpha is C = 4.0 and alpha = 0.5.\n",
      "The accuracy for C = 4.0 and alpha = 0.5 is 93.81%.\n"
     ]
    }
   ],
   "source": [
    "opt = k_fold_best_hp(trainX, trainY, params, params, 5)\n",
    "c_val = params[opt[0]]\n",
    "g_val = params[opt[1]]\n",
    "print(f'The best performing pair of C and alpha is C = {c_val} and alpha = {g_val}.')\n",
    "accuracy = train_test_rbf(trainX, trainY, testX, testY, c_val, g_val)\n",
    "print(f'The accuracy for C = {c_val} and alpha = {g_val} is {accuracy:.2f}%.')"
   ]
  },
  {
   "cell_type": "markdown",
   "metadata": {
    "pycharm": {
     "name": "#%% md\n"
    }
   },
   "source": [
    "The trained RBF SVM gets consistently above 94% in multiple runs of this script. While the linear SVM\n",
    "performed the best at the highest possible value of C, the RBF kernel performs the best generally with\n",
    "a smaller value of C and alpha. Since the RBF kernel introduces non-linearity into the decision boundary,\n",
    "SVM no longer needs the maximum value of C and can focus more on maximizing the margin of separation\n",
    "than minimizing classification error."
   ]
  },
  {
   "cell_type": "code",
   "execution_count": null,
   "outputs": [],
   "source": [],
   "metadata": {
    "collapsed": false,
    "pycharm": {
     "name": "#%%\n"
    }
   }
  },
  {
   "cell_type": "code",
   "execution_count": null,
   "metadata": {},
   "outputs": [],
   "source": []
  }
 ],
 "metadata": {
  "kernelspec": {
   "display_name": "Python 3",
   "language": "python",
   "name": "python3"
  },
  "language_info": {
   "codemirror_mode": {
    "name": "ipython",
    "version": 3
   },
   "file_extension": ".py",
   "mimetype": "text/x-python",
   "name": "python",
   "nbconvert_exporter": "python",
   "pygments_lexer": "ipython3",
   "version": "3.8.6"
  }
 },
 "nbformat": 4,
 "nbformat_minor": 1
}